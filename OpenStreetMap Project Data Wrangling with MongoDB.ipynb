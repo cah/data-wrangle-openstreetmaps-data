{
 "metadata": {
  "name": "",
  "signature": "sha256:3725329caa02016e4dab397325b4f6736abbd85c7bf62b34b60ee4a4c7d2fed7"
 },
 "nbformat": 3,
 "nbformat_minor": 0,
 "worksheets": [
  {
   "cells": [
    {
     "cell_type": "heading",
     "level": 1,
     "metadata": {},
     "source": [
      "OpenStreetMap ProjectData Wrangling with MongoDB"
     ]
    },
    {
     "cell_type": "markdown",
     "metadata": {},
     "source": [
      "## Table of Content\n",
      "\n",
      "1. [Project Summary](#project-summary) \n",
      "2. [Data Overview](#data-overview) \n",
      "3. [Problems Encounted with the Dataset](#problems-encounted-with-the-dataset)\n",
      "4. [Additional data exploration using MongoDB queries](#additional-data-exploration-using-mongodb-queries)\n",
      "5. [Conclusion](#conclusion)"
     ]
    },
    {
     "cell_type": "markdown",
     "metadata": {},
     "source": [
      "##Project Summary"
     ]
    },
    {
     "cell_type": "markdown",
     "metadata": {},
     "source": [
      "\n",
      "What is your name?\n",
      "Curt Hochwender\n",
      "\n",
      "What E-mail address do you use to sign in to Udacity?\n",
      "curt.hochwender@icloud.com\n",
      "\n",
      "What area of the world you used for your project? Post a link to the map position and write a short description. Note that the osm file of the map should be at least 50MB.\n",
      "\n",
      "URL: \n",
      "http://www.openstreetmap.org/export#map=10/39.0944/-94.5758\n",
      "\n",
      "\n",
      "\n",
      "I chose this particular place because it is my hometown. I know it well and would like its map to be improved in quality!\n",
      "\n",
      "Is there a list  of  Web sites, books, forums, blog posts, github repositories etc that you referred to or used  in this  submission (Add N/A if you did not use  such resources)?\n",
      "\n",
      "http://stackoverflow.com/\n",
      "\n",
      "https://docs.python.org/2/\n",
      "\n",
      "Please carefully read the following statement and include it in your email:\n",
      "\u201cI hereby confirm that this submission is my work. I have cited above the origins of any parts of the submission that were taken from Websites, books, forums, blog posts, github repositories, etc. By including this in my email, I understand that I will be expected to explain my work in a video call with a Udacity coach before I can receive my verified certificate.\u201d\n",
      "\n",
      "Is there any other important information that you would want your project evaluator to know?\n",
      "None\n",
      "\n",
      "Use this space to communicate with your project evaluator. Is there anything you would like to communicate? Feedback or suggestions?\n",
      "None\n"
     ]
    },
    {
     "cell_type": "markdown",
     "metadata": {},
     "source": [
      "##Data Overview"
     ]
    },
    {
     "cell_type": "markdown",
     "metadata": {},
     "source": [
      "This section contains basic statistics about the dataset and the MongoDB queries used to gather them."
     ]
    },
    {
     "cell_type": "heading",
     "level": 3,
     "metadata": {},
     "source": [
      "Retrieval Date and Time"
     ]
    },
    {
     "cell_type": "code",
     "collapsed": false,
     "input": [
      "March 23, 2015"
     ],
     "language": "python",
     "metadata": {},
     "outputs": []
    },
    {
     "cell_type": "heading",
     "level": 3,
     "metadata": {},
     "source": [
      "Exported Map"
     ]
    },
    {
     "cell_type": "markdown",
     "metadata": {},
     "source": [
      "URL: http://www.openstreetmap.org/export#map=10/39.0944/-94.5758"
     ]
    },
    {
     "cell_type": "heading",
     "level": 3,
     "metadata": {},
     "source": [
      "File Size Before running data.py:"
     ]
    },
    {
     "cell_type": "code",
     "collapsed": false,
     "input": [
      "CURTs-MBP:DataWrangling curt_hochwender$ ls -lah *osm.json\n",
      "-rw-r--r--  1 curt_hochwender  staff   366M Mar 23 19:12 example.osm.json"
     ],
     "language": "python",
     "metadata": {},
     "outputs": []
    },
    {
     "cell_type": "heading",
     "level": 3,
     "metadata": {},
     "source": [
      "File Size After running data.py:"
     ]
    },
    {
     "cell_type": "code",
     "collapsed": false,
     "input": [
      "CURTs-MBP:DataWrangling curt_hochwender$ ls -lah *osm*\n",
      "-rw-r--r--@ 1 curt_hochwender  staff   262M Mar 23 19:09 example.osm"
     ],
     "language": "python",
     "metadata": {},
     "outputs": []
    },
    {
     "cell_type": "heading",
     "level": 3,
     "metadata": {},
     "source": [
      "Importing the data into MongoDB:"
     ]
    },
    {
     "cell_type": "code",
     "collapsed": false,
     "input": [
      "mongoimport -d osm -c kc --file  example.osm.json --jsonArray "
     ],
     "language": "python",
     "metadata": {},
     "outputs": []
    },
    {
     "cell_type": "heading",
     "level": 3,
     "metadata": {},
     "source": [
      "MongoDB Queries to provide overview of the dataset:"
     ]
    },
    {
     "cell_type": "heading",
     "level": 4,
     "metadata": {},
     "source": [
      "Total Number of Documents:"
     ]
    },
    {
     "cell_type": "code",
     "collapsed": false,
     "input": [
      "> db.kc.find().count()\n",
      "1305483"
     ],
     "language": "python",
     "metadata": {},
     "outputs": []
    },
    {
     "cell_type": "heading",
     "level": 4,
     "metadata": {},
     "source": [
      "Total number of nodes:"
     ]
    },
    {
     "cell_type": "code",
     "collapsed": false,
     "input": [
      "> db.kc.find({\"type\":\"node\"}).count()\n",
      "1167299"
     ],
     "language": "python",
     "metadata": {},
     "outputs": []
    },
    {
     "cell_type": "heading",
     "level": 4,
     "metadata": {},
     "source": [
      "Total number of ways:"
     ]
    },
    {
     "cell_type": "code",
     "collapsed": false,
     "input": [
      "> db.kc.find({\"type\":\"way\"}).count()\n",
      "137937"
     ],
     "language": "python",
     "metadata": {},
     "outputs": []
    },
    {
     "cell_type": "heading",
     "level": 4,
     "metadata": {},
     "source": [
      "Total number of unique contributors:"
     ]
    },
    {
     "cell_type": "code",
     "collapsed": false,
     "input": [
      "> db.kc.distinct(\"created.user\").length\n",
      "643"
     ],
     "language": "python",
     "metadata": {},
     "outputs": []
    },
    {
     "cell_type": "heading",
     "level": 4,
     "metadata": {},
     "source": [
      "Top Contributors:"
     ]
    },
    {
     "cell_type": "code",
     "collapsed": false,
     "input": [
      "> db.kc.aggregate([{\"$group\":{\"_id\": \"$created.user\", \"count\": {\"$sum\":1}}}, {\"$sort\": {\"count\": -1}},{\"$limit\": 10}])\n",
      "{ \"_id\" : \"woodpeck_fixbot\", \"count\" : 405410 }\n",
      "{ \"_id\" : \"PHerison\", \"count\" : 189355 }\n",
      "{ \"_id\" : \"schaaf\", \"count\" : 109081 }\n",
      "{ \"_id\" : \"DeVietor\", \"count\" : 86854 }\n",
      "{ \"_id\" : \"DigitalDan\", \"count\" : 57415 }\n",
      "{ \"_id\" : \"ToeBee\", \"count\" : 42923 }\n",
      "{ \"_id\" : \"elyk\", \"count\" : 39305 }\n",
      "{ \"_id\" : \"Rub21\", \"count\" : 28984 }\n",
      "{ \"_id\" : \"railfan-eric\", \"count\" : 25907 }\n",
      "{ \"_id\" : \"Sabra Sharaya\", \"count\" : 25723 }"
     ],
     "language": "python",
     "metadata": {},
     "outputs": []
    },
    {
     "cell_type": "heading",
     "level": 4,
     "metadata": {},
     "source": [
      "Number of users appearing only once (having 1 post):"
     ]
    },
    {
     "cell_type": "code",
     "collapsed": false,
     "input": [
      "db.kc.aggregate([{\"$group\":{\"_id\":\"$created.user\", \"count\":{\"$sum\":1}}},{\"$group\":{\"_id\":\"$count\", \"num_users\":{\"$sum\":1}}},{\"$sort\":{\"_id\":1}},{\"$limit\":1}])\n",
      "\n",
      "{ \"_id\" : 1, \"num_users\" : 109 }"
     ],
     "language": "python",
     "metadata": {},
     "outputs": []
    },
    {
     "cell_type": "heading",
     "level": 4,
     "metadata": {},
     "source": [
      "Top 10 Sources:"
     ]
    },
    {
     "cell_type": "code",
     "collapsed": false,
     "input": [
      "> db.kc.aggregate([{\"$match\":{\"source\":{\"$exists\":1}}},{\"$group\":{\"_id\":\"$source\",\"count\":{\"$sum\":1}}},{\"$sort\":{\"count\":-1}},{\"$limit\":10}])\n",
      "{ \"_id\" : \"bing\", \"count\" : 10253 }\n",
      "{ \"_id\" : \"Bing\", \"count\" : 8069 }\n",
      "{ \"_id\" : \"Yahoo\", \"count\" : 4185 }\n",
      "{ \"_id\" : \"USGS Geonames\", \"count\" : 518 }\n",
      "{ \"_id\" : \"TIGER/Line\u00ae 2008 Place Shapefiles (http://www.census.gov/geo/www/tiger/)\", \"count\" : 476 }\n",
      "{ \"_id\" : \"Yahoo;extrapolation\", \"count\" : 119 }\n",
      "{ \"_id\" : \"Yahoo;extapolatin\", \"count\" : 101 }\n",
      "{ \"_id\" : \"extrapolation\", \"count\" : 97 }\n",
      "{ \"_id\" : \"USGS HRO\", \"count\" : 78 }\n",
      "{ \"_id\" : \"yahoo\", \"count\" : 60 }"
     ],
     "language": "python",
     "metadata": {},
     "outputs": []
    },
    {
     "cell_type": "markdown",
     "metadata": {},
     "source": [
      "## Problems Encounted with the Dataset"
     ]
    },
    {
     "cell_type": "markdown",
     "metadata": {},
     "source": [
      "After downloading and reviewing the dataset, I noticed several problems: \n",
      "\n",
      "* Unexpected Data types\n",
      "* Most \"node\" don't have a state specificed\n",
      "* Over-abbreviated or missing street names\n",
      "* In general, missing and incorrect data\n"
     ]
    },
    {
     "cell_type": "markdown",
     "metadata": {},
     "source": [
      "### Unexpected Data Types\n",
      "\n",
      "Using the query below, it's clear that invalid data types have entered into the dataset and additional sanitization needs to occcur.  "
     ]
    },
    {
     "cell_type": "code",
     "collapsed": false,
     "input": [
      "> db.kc.distinct(\"type\")\n",
      "[\n",
      "\t\"node\",\n",
      "\t\"Public\",\n",
      "\t\"range\",\n",
      "\t\"dance\",\n",
      "\t\"evergreen\",\n",
      "\t\"conifer\",\n",
      "\t\"broad_leaved\",\n",
      "\t\"broad_leaf\",\n",
      "\t\"way\",\n",
      "\t\"Rifle/Pistol\",\n",
      "\t\"Shotgun/Skeet\",\n",
      "\t\"memorial\",\n",
      "\t\"Military/Public\"\n",
      "]"
     ],
     "language": "python",
     "metadata": {},
     "outputs": []
    },
    {
     "cell_type": "markdown",
     "metadata": {},
     "source": [
      "###Nodes missing state and postal code information\n",
      "\n",
      "Next, I began reviewing the nodes to ensure the information was complete and accurate. However, I was surprise to learn the data was extremely incomplete. Only .1% of the nodes have the state populated. Also, there were several nodes that had incorrect postcodes.  "
     ]
    },
    {
     "cell_type": "code",
     "collapsed": false,
     "input": [
      "> db.kc.aggregate([{\"$match\":{\"type\":\"node\"}}, {\"$group\":{\"_id\":\"$address.state\",\"count\":{\"$sum\":1}}},{\"$sort\":{\"count\":-1}}])\n",
      "{ \"_id\" : null, \"count\" : 1166479 }\n",
      "{ \"_id\" : \"KS\", \"count\" : 535 }\n",
      "{ \"_id\" : \"MO\", \"count\" : 281 }\n",
      "{ \"_id\" : \"Kansas\", \"count\" : 4 }\n"
     ],
     "language": "python",
     "metadata": {},
     "outputs": []
    },
    {
     "cell_type": "code",
     "collapsed": false,
     "input": [
      "> db.kc.aggregate([{\"$match\":{\"address.postcode\":{\"$nin\":[/^6/]}}}, {\"$group\":{\"_id\":\"$address.postcode\", \"count\":{\"$sum\":1}}}, {\"$sort\":{\"count\":1}}])\n",
      "{ \"_id\" : \"MO\", \"count\" : 1 }\n",
      "{ \"_id\" : \"q\", \"count\" : 1 }\n",
      "{ \"_id\" : \"4081\", \"count\" : 1 }\n",
      "{ \"_id\" : \"W Pershing\", \"count\" : 1 }\n",
      "{ \"_id\" : \"KS 66207\", \"count\" : 1 }\n",
      "{ \"_id\" : \"KS 66210\", \"count\" : 1 }\n",
      "{ \"_id\" : \"MO 64106-2303\", \"count\" : 1 }\n",
      "{ \"_id\" : \"94113\", \"count\" : 1 }\n"
     ],
     "language": "python",
     "metadata": {},
     "outputs": []
    },
    {
     "cell_type": "markdown",
     "metadata": {},
     "source": [
      "### Over-abbreviated or missing street names\n",
      "\n",
      "Only 351 of the total records contained an expected street type. "
     ]
    },
    {
     "cell_type": "code",
     "collapsed": false,
     "input": [
      "> db.kc.distinct(\"address.street\",{\"address.street\" : {\"$in\": [/Street/, /Avenue/, /Boulevard/, /Drive/ ,/Court/, /Place/, /Square/, /Lane/, /Road/ , /Trail/, /Parkway/, /Commons/,/Terrace/]}}).length;\n",
      "351"
     ],
     "language": "python",
     "metadata": {},
     "outputs": []
    },
    {
     "cell_type": "markdown",
     "metadata": {},
     "source": [
      "### In general, missing and incorrect data\n",
      "\n",
      "At with every query, I uncovered additional problems with the data. The geographic area selected contains several million people yet most of the shops have no name. Even more concerning is the lack of grocery stores in the data. Also, you can the majority of the amenities don't contain a valid postcode. "
     ]
    },
    {
     "cell_type": "code",
     "collapsed": false,
     "input": [
      "db.kc.aggregate([{\"$match\":{\"shop\":{\"$exists\":1}}},{\"$group\":{\"_id\":\"$name\",\"count\":{\"$sum\":1}}},{\"$sort\":{\"count\":-1}}])\n",
      "{ \"_id\" : null, \"count\" : 87 }\n",
      "{ \"_id\" : \"Price Chopper\", \"count\" : 26 }\n",
      "{ \"_id\" : \"QuikTrip\", \"count\" : 17 }\n",
      "{ \"_id\" : \"Target\", \"count\" : 13 }\n",
      "{ \"_id\" : \"O'Reilly Auto Parts\", \"count\" : 9 }\n",
      "{ \"_id\" : \"7-Eleven\", \"count\" : 9 }\n",
      "{ \"_id\" : \"Hy-Vee\", \"count\" : 9 }\n",
      "{ \"_id\" : \"Lowes\", \"count\" : 8 }\n",
      "{ \"_id\" : \"Home Depot\", \"count\" : 7 }\n",
      "{ \"_id\" : \"Walmart\", \"count\" : 7 }\n",
      "\n"
     ],
     "language": "python",
     "metadata": {},
     "outputs": []
    },
    {
     "cell_type": "code",
     "collapsed": false,
     "input": [
      "> db.kc.aggregate([{\"$match\":{\"amenity\":{\"$exists\":1},\"amenity\":\"school\"}}, {\"$group\":{\"_id\":\"$address.postcode\", \"count\":{\"$sum\":1}}}, {\"$sort\":{\"count\":1}}])\n",
      "{ \"_id\" : \"64063\", \"count\" : 1 }\n",
      "{ \"_id\" : \"64086\", \"count\" : 1 }\n",
      "{ \"_id\" : \"64015\", \"count\" : 1 }\n",
      "{ \"_id\" : \"66214\", \"count\" : 1 }\n",
      "{ \"_id\" : \"66030\", \"count\" : 1 }\n",
      "{ \"_id\" : \"64014\", \"count\" : 1 }\n",
      "{ \"_id\" : \"66215\", \"count\" : 1 }\n",
      "{ \"_id\" : \"64127\", \"count\" : 1 }\n",
      "{ \"_id\" : \"64123\", \"count\" : 1 }\n",
      "{ \"_id\" : \"66044\", \"count\" : 1 }\n",
      "{ \"_id\" : \"64118\", \"count\" : 1 }\n",
      "{ \"_id\" : \"64150\", \"count\" : 1 }\n",
      "{ \"_id\" : \"66206\", \"count\" : 2 }\n",
      "{ \"_id\" : \"64119\", \"count\" : 2 }\n",
      "{ \"_id\" : \"64085\", \"count\" : 4 }\n",
      "{ \"_id\" : \"66208\", \"count\" : 4 }\n",
      "{ \"_id\" : null, \"count\" : 1314 }\n"
     ],
     "language": "python",
     "metadata": {},
     "outputs": []
    },
    {
     "cell_type": "markdown",
     "metadata": {},
     "source": [
      "## Additional data exploration using MongoDB queries"
     ]
    },
    {
     "cell_type": "markdown",
     "metadata": {},
     "source": [
      "###Total 10 Amenity Types"
     ]
    },
    {
     "cell_type": "code",
     "collapsed": false,
     "input": [
      "Appearantly, Parking is a high priority in the Kansas City Area. :)\n",
      "\n",
      "db.kc.aggregate([{\"$match\":{\"amenity\":{\"$exists\":1}}},{\"$group\":{\"_id\":\"$amenity\",\"count\":{\"$sum\":1}}},{\"$sort\":{\"count\":-1}},{\"$limit\":10}])\n",
      "{ \"_id\" : \"parking\", \"count\" : 2151 }\n",
      "{ \"_id\" : \"parking_space\", \"count\" : 1389 }\n",
      "{ \"_id\" : \"school\", \"count\" : 1338 }\n",
      "{ \"_id\" : \"place_of_worship\", \"count\" : 1197 }\n",
      "{ \"_id\" : \"restaurant\", \"count\" : 663 }\n",
      "{ \"_id\" : \"fast_food\", \"count\" : 425 }\n",
      "{ \"_id\" : \"grave_yard\", \"count\" : 313 }\n",
      "{ \"_id\" : \"boat_storage\", \"count\" : 226 }\n",
      "{ \"_id\" : \"fuel\", \"count\" : 207 }\n",
      "{ \"_id\" : \"bank\", \"count\" : 164 }"
     ],
     "language": "python",
     "metadata": {},
     "outputs": []
    },
    {
     "cell_type": "markdown",
     "metadata": {},
     "source": [
      "###Top 5 Fast Food Restaurants:"
     ]
    },
    {
     "cell_type": "code",
     "collapsed": false,
     "input": [
      "> db.kc.aggregate([{\"$match\":{\"amenity\":\"fast_food\"}},{\"$group\":{\"_id\":\"$name\",\"count\":{\"$sum\":1}}},{\"$sort\":{\"count\":-1}},{\"$limit\":5}])\n",
      "{ \"_id\" : \"McDonald's\", \"count\" : 62 }\n",
      "{ \"_id\" : \"Subway\", \"count\" : 28 }\n",
      "{ \"_id\" : \"Taco Bell\", \"count\" : 28 }\n",
      "{ \"_id\" : \"Burger King\", \"count\" : 26 }\n",
      "{ \"_id\" : \"Wendy's\", \"count\" : 23 }"
     ],
     "language": "python",
     "metadata": {},
     "outputs": []
    },
    {
     "cell_type": "markdown",
     "metadata": {},
     "source": [
      "###Location with a website:"
     ]
    },
    {
     "cell_type": "code",
     "collapsed": false,
     "input": [
      "> db.kc.find({\"website\":{\"$exists\":1}}).count();\n",
      "463"
     ],
     "language": "python",
     "metadata": {},
     "outputs": []
    },
    {
     "cell_type": "markdown",
     "metadata": {},
     "source": [
      "###Streets named after the United State President:"
     ]
    },
    {
     "cell_type": "code",
     "collapsed": false,
     "input": [
      "> db.kc.distinct(\"address.street\",{\"address.street\" : {\"$in\": [/^Adams/, /^Adams/, /^Arthur/, /^Buchanan/, /^Bush/, /^Bush/, /^Carter/, /^Cleveland/, /^Clinton/, /^Coolidge/, /^Eisenhower/, /^Fillmore/, /^Ford/, /^Garfield/, /^Grant/, /^Harding/, /^Harrison/, /^Harrison/, /^Hayes/, /^Hoover/, /^Jackson/, /^Jefferson/, /^Johnson/, /^Johnson/, /^Kennedy/, /^Lincoln/, /^Madison/, /^McKinley/, /^Monroe/, /^Nixon/, /^Obama/, /^Pierce/, /^Polk/, /^Reagan/, /^Roosevelt/, /^Roosevelt/, /^Taft/, /^Taylor/, /^Truman/, /^Tyler/, /^Van Buren/, /^Washington/, /^Wilson/]}});\n",
      "[\n",
      "\t\"Johnson Drive\",\n",
      "\t\"Truman Road\",\n",
      "\t\"Adams Dairy Parkway\",\n",
      "\t\"Washington Street\",\n",
      "\t\"Truman Rd\",\n",
      "\t\"Harrison St\",\n",
      "\t\"Cleveland Avenue\",\n",
      "\t\"Jefferson\"\n",
      "]"
     ],
     "language": "python",
     "metadata": {},
     "outputs": []
    },
    {
     "cell_type": "markdown",
     "metadata": {},
     "source": [
      "###Largest Religion:"
     ]
    },
    {
     "cell_type": "code",
     "collapsed": false,
     "input": [
      "> db.kc.aggregate([{\"$match\":{\"amenity\":{\"$exists\":1},\"amenity\":\"place_of_worship\"}}, {\"$group\":{\"_id\":\"$religion\", \"count\":{\"$sum\":1}}}, {\"$sort\":{\"count\":1}}])\n",
      "{ \"_id\" : \"hindu\", \"count\" : 1 }\n",
      "{ \"_id\" : \"sikh\", \"count\" : 1 }\n",
      "{ \"_id\" : \"scientologist\", \"count\" : 1 }\n",
      "{ \"_id\" : \"Christian\", \"count\" : 1 }\n",
      "{ \"_id\" : \"buddhist\", \"count\" : 2 }\n",
      "{ \"_id\" : \"unitarian_universalist\", \"count\" : 3 }\n",
      "{ \"_id\" : \"muslim\", \"count\" : 5 }\n",
      "{ \"_id\" : \"jewish\", \"count\" : 7 }\n",
      "{ \"_id\" : null, \"count\" : 68 }\n",
      "{ \"_id\" : \"christian\", \"count\" : 1108 }"
     ],
     "language": "python",
     "metadata": {},
     "outputs": []
    },
    {
     "cell_type": "markdown",
     "metadata": {},
     "source": [
      "## Conclusion\n",
      "\n",
      "While cleaning the data did provide some benefit, the querries above clearly illustrate numerous gaps in the dataset. The majority of the nodes contain missing and/or incomplete addresses, state, and postalcode information. In addition, the amenitites and shop information is also incomplete. \n",
      "\n",
      "In it's current state, I would not use Open Street Map for any statistical analysis. In addititon (without some insentive), I would not contribute to the project. At this point, I would be willing to pay for an improved dataset to ensure the most accurate analysis possible. Some ideas to improve the dataset would include:\n",
      "\n",
      "* additional bots to clean the data\n",
      "* pulling the data from the Google API\n",
      "* corporate sponsors \n",
      "* offer prizes to users for cleaning the dataset\n",
      "* pay users to improve a specific area\n",
      "\n",
      "Even though the data is unusable in its current state, with a few minor modifications to the data.py script, we could start implement methods to improved the data. I've attached the data_with_audit.py script which provides simple method to correct abbreviated street names. In addition, simple methods could be written to correct postcode, shop names, amenities, and other similar issues.  \n"
     ]
    }
   ],
   "metadata": {}
  }
 ]
}